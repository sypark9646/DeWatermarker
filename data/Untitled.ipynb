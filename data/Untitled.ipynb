{
 "cells": [
  {
   "cell_type": "code",
   "execution_count": 14,
   "metadata": {},
   "outputs": [
    {
     "data": {
      "text/plain": [
       "[{'watermarked': array([[[255],\n",
       "          [255],\n",
       "          [255],\n",
       "          ...,\n",
       "          [255],\n",
       "          [255],\n",
       "          [255]],\n",
       "  \n",
       "         [[255],\n",
       "          [255],\n",
       "          [255],\n",
       "          ...,\n",
       "          [255],\n",
       "          [255],\n",
       "          [255]],\n",
       "  \n",
       "         [[255],\n",
       "          [255],\n",
       "          [255],\n",
       "          ...,\n",
       "          [255],\n",
       "          [255],\n",
       "          [255]],\n",
       "  \n",
       "         ...,\n",
       "  \n",
       "         [[255],\n",
       "          [255],\n",
       "          [255],\n",
       "          ...,\n",
       "          [255],\n",
       "          [255],\n",
       "          [255]],\n",
       "  \n",
       "         [[255],\n",
       "          [255],\n",
       "          [255],\n",
       "          ...,\n",
       "          [255],\n",
       "          [255],\n",
       "          [255]],\n",
       "  \n",
       "         [[255],\n",
       "          [255],\n",
       "          [255],\n",
       "          ...,\n",
       "          [255],\n",
       "          [255],\n",
       "          [255]]], dtype=uint8), 'original': array([[[255],\n",
       "          [255],\n",
       "          [255],\n",
       "          ...,\n",
       "          [255],\n",
       "          [255],\n",
       "          [255]],\n",
       "  \n",
       "         [[255],\n",
       "          [255],\n",
       "          [255],\n",
       "          ...,\n",
       "          [255],\n",
       "          [255],\n",
       "          [255]],\n",
       "  \n",
       "         [[255],\n",
       "          [255],\n",
       "          [255],\n",
       "          ...,\n",
       "          [255],\n",
       "          [255],\n",
       "          [255]],\n",
       "  \n",
       "         ...,\n",
       "  \n",
       "         [[255],\n",
       "          [255],\n",
       "          [255],\n",
       "          ...,\n",
       "          [255],\n",
       "          [255],\n",
       "          [255]],\n",
       "  \n",
       "         [[255],\n",
       "          [255],\n",
       "          [255],\n",
       "          ...,\n",
       "          [255],\n",
       "          [255],\n",
       "          [255]],\n",
       "  \n",
       "         [[255],\n",
       "          [255],\n",
       "          [255],\n",
       "          ...,\n",
       "          [255],\n",
       "          [255],\n",
       "          [255]]], dtype=uint8)}]"
      ]
     },
     "execution_count": 14,
     "metadata": {},
     "output_type": "execute_result"
    }
   ],
   "source": [
    "import pickle\n",
    "with open('training/set.pkl', 'rb') as f:\n",
    "    data = pickle.load(f) # 단 한줄씩 읽어옴\n",
    "data"
   ]
  },
  {
   "cell_type": "code",
   "execution_count": 15,
   "metadata": {},
   "outputs": [
    {
     "name": "stdout",
     "output_type": "stream",
     "text": [
      "[[[255]\n",
      "  [255]\n",
      "  [255]\n",
      "  ...\n",
      "  [255]\n",
      "  [255]\n",
      "  [255]]\n",
      "\n",
      " [[255]\n",
      "  [255]\n",
      "  [255]\n",
      "  ...\n",
      "  [255]\n",
      "  [255]\n",
      "  [255]]\n",
      "\n",
      " [[255]\n",
      "  [255]\n",
      "  [255]\n",
      "  ...\n",
      "  [255]\n",
      "  [255]\n",
      "  [255]]\n",
      "\n",
      " ...\n",
      "\n",
      " [[255]\n",
      "  [255]\n",
      "  [255]\n",
      "  ...\n",
      "  [255]\n",
      "  [255]\n",
      "  [255]]\n",
      "\n",
      " [[255]\n",
      "  [255]\n",
      "  [255]\n",
      "  ...\n",
      "  [255]\n",
      "  [255]\n",
      "  [255]]\n",
      "\n",
      " [[255]\n",
      "  [255]\n",
      "  [255]\n",
      "  ...\n",
      "  [255]\n",
      "  [255]\n",
      "  [255]]]\n",
      "(2306, 1728, 1)\n"
     ]
    }
   ],
   "source": [
    "print(data[0]['watermarked'].reshape(2306, 1728, 1)) # (2306, 1728, 3) -> (2306, 1728)\n",
    "print(data[0]['original'].shape)"
   ]
  },
  {
   "cell_type": "code",
   "execution_count": 13,
   "metadata": {},
   "outputs": [
    {
     "name": "stdout",
     "output_type": "stream",
     "text": [
      "(2306, 1728, 1)\n"
     ]
    }
   ],
   "source": [
    "import cv2\n",
    "import os\n",
    "\n",
    "mylist = list()\n",
    "\n",
    "mydictionary = {}\n",
    "mydictionary['watermarked'] = cv2.imread('C:/Users/soyeon/Desktop/DeWatermarker-master/data/training/watermarked.tiff', 0)\n",
    "mydictionary['original'] = cv2.imread('C:/Users/soyeon/Desktop/DeWatermarker-master/data/training/original.tiff', 0)\n",
    "\n",
    "mydictionary['watermarked']=mydictionary['watermarked'].reshape(2306, 1728, 1)\n",
    "mydictionary['original']=mydictionary['original'].reshape(2306, 1728, 1)\n",
    "print(mydictionary['watermarked'].shape)\n",
    "\n",
    "mylist.append(mydictionary)\n",
    "    \n",
    "import pickle\n",
    "with open('C:/Users/soyeon/Desktop/DeWatermarker-master/data/training/set.pkl', 'wb') as f:\n",
    "    pickle.dump(mylist, f)"
   ]
  },
  {
   "cell_type": "code",
   "execution_count": 21,
   "metadata": {},
   "outputs": [],
   "source": [
    "import cv2\n",
    "mydictionary = {}\n",
    "mydictionary['watermarked'] = cv2.imread('C:/Users/soyeon/Desktop/DeWatermarker-master/data/training/watermarked.tiff')\n",
    "mydictionary['original'] = cv2.imread('C:/Users/soyeon/Desktop/DeWatermarker-master/data/training/original.tiff')\n",
    "mylist = list()\n",
    "mylist.append(mydictionary)"
   ]
  },
  {
   "cell_type": "code",
   "execution_count": 23,
   "metadata": {},
   "outputs": [],
   "source": [
    "import pickle\n",
    "with open('./training/set.pkl', 'wb') as f:\n",
    "    pickle.dump(mylist, f)"
   ]
  },
  {
   "cell_type": "code",
   "execution_count": 5,
   "metadata": {},
   "outputs": [
    {
     "name": "stdout",
     "output_type": "stream",
     "text": [
      "(2306, 1728, 3)\n",
      "(2306, 1728, 3)\n",
      "(2306, 1728, 3)\n",
      "(2306, 1728, 3)\n",
      "(2306, 1728, 3)\n",
      "(2306, 1728, 3)\n",
      "(2306, 1728, 3)\n",
      "(2306, 1728, 3)\n",
      "(2306, 1728, 3)\n",
      "(2306, 1728, 3)\n",
      "(2306, 1728, 3)\n"
     ]
    }
   ],
   "source": [
    "import cv2\n",
    "import os\n",
    "\n",
    "path_of_images = 'C:/Users/soyeon/Desktop/DeWatermarker-master/tests/images/'\n",
    "list_of_images = os.listdir(path_of_images)\n",
    "\n",
    "for image in list_of_images:\n",
    "    img = cv2.imread(os.path.join(path_of_images, image))\n",
    "    img = cv2.resize(img, (1728, 2306), interpolation=cv2.INTER_CUBIC)\n",
    "    print(img.shape)\n",
    "    cv2.imwrite(os.path.join(path_of_images, image), img)"
   ]
  },
  {
   "cell_type": "code",
   "execution_count": null,
   "metadata": {},
   "outputs": [],
   "source": []
  }
 ],
 "metadata": {
  "kernelspec": {
   "display_name": "Python 3",
   "language": "python",
   "name": "python3"
  },
  "language_info": {
   "codemirror_mode": {
    "name": "ipython",
    "version": 3
   },
   "file_extension": ".py",
   "mimetype": "text/x-python",
   "name": "python",
   "nbconvert_exporter": "python",
   "pygments_lexer": "ipython3",
   "version": "3.7.4"
  }
 },
 "nbformat": 4,
 "nbformat_minor": 4
}
