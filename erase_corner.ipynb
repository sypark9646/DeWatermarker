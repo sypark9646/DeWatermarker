{
 "cells": [
  {
   "cell_type": "code",
   "execution_count": 21,
   "metadata": {},
   "outputs": [],
   "source": [
    "import numpy as np\n",
    "import cv2\n",
    "import os\n",
    "\n",
    "def hitmiss(src, kernel):\n",
    "    im = src / 255\n",
    "    k1 = (kernel == 1).astype('uint8')\n",
    "    k2 = (kernel == -1).astype('uint8')\n",
    "    e1 = cv2.erode(im, k1, borderType=cv2.BORDER_CONSTANT)\n",
    "    e2 = cv2.erode(1-im, k2, borderType=cv2.BORDER_CONSTANT)\n",
    "    e = np.logical_and(np.array(e1), np.array(e2))\n",
    "    e[e == True] = 1\n",
    "    e[e == False] = 0\n",
    "    return e\n",
    "\n",
    "path_of_images = './image1/image1_corner_connectedComponent/1/'\n",
    "path_of_outputimages = './image1/image1_corner_connectedComponent/1_corner'\n",
    "list_of_images = os.listdir(path_of_images)\n",
    "\n",
    "for image in list_of_images:\n",
    "    im_binary = cv2.imdecode(np.fromfile(os.path.join(path_of_images, image), dtype=np.uint8) , cv2.IMREAD_GRAYSCALE) #한글파일명\n",
    "\n",
    "    kernel = np.array([[-1,-1, 1], \n",
    "                       [-1, 1, 1], \n",
    "                       [-1,-1, 1]])\n",
    "\n",
    "    im_mask = np.zeros(im_binary.shape, np.uint8)\n",
    "\n",
    "    im_mask |= hitmiss(im_binary, kernel)\n",
    "    im_mask |= hitmiss(im_binary, np.fliplr(kernel))\n",
    "    im_mask |= hitmiss(im_binary, kernel.T)\n",
    "    im_mask |= hitmiss(im_binary, np.flipud(kernel.T))\n",
    "\n",
    "    im_dst = im_binary & ((1 - im_mask) * 255)\n",
    "\n",
    "    is_success, im_buf_arr = cv2.imencode(\".tiff\", im_dst)\n",
    "    im_buf_arr.tofile(os.path.join(path_of_outputimages, image))"
   ]
  },
  {
   "cell_type": "code",
   "execution_count": null,
   "metadata": {},
   "outputs": [],
   "source": []
  }
 ],
 "metadata": {
  "kernelspec": {
   "display_name": "Python 3",
   "language": "python",
   "name": "python3"
  },
  "language_info": {
   "codemirror_mode": {
    "name": "ipython",
    "version": 3
   },
   "file_extension": ".py",
   "mimetype": "text/x-python",
   "name": "python",
   "nbconvert_exporter": "python",
   "pygments_lexer": "ipython3",
   "version": "3.7.4"
  }
 },
 "nbformat": 4,
 "nbformat_minor": 4
}
