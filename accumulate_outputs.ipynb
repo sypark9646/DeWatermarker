{
 "cells": [
  {
   "cell_type": "code",
   "execution_count": 2,
   "metadata": {},
   "outputs": [
    {
     "name": "stdout",
     "output_type": "stream",
     "text": [
      "(768, 576, 3)\n"
     ]
    },
    {
     "data": {
      "text/plain": [
       "True"
      ]
     },
     "execution_count": 2,
     "metadata": {},
     "output_type": "execute_result"
    }
   ],
   "source": [
    "import cv2\n",
    "import numpy as np\n",
    "import os\n",
    "\n",
    "avg1 = np.zeros((768,576,3), dtype=np.int)\n",
    "print(avg1.shape)\n",
    "\n",
    "path_of_images = 'C:/Users/soyeon/Desktop/DeWatermarker-master/testResult/testData/2'\n",
    "list_of_images = os.listdir(path_of_images)\n",
    "\n",
    "\n",
    "for image in list_of_images:\n",
    "    img = cv2.imread(os.path.join(path_of_images, image)) #한글파일명  \n",
    "    resize_img = cv2.resize(img, (576,768))\n",
    "    avg1 += resize_img\n",
    "\n",
    "res1 = avg1/9\n",
    "\n",
    "cv2.imwrite('C:/Users/soyeon/Desktop/DeWatermarker-master/testResult/testData/2/accumulate.tiff', res1)"
   ]
  },
  {
   "cell_type": "code",
   "execution_count": 13,
   "metadata": {},
   "outputs": [
    {
     "data": {
      "text/plain": [
       "True"
      ]
     },
     "execution_count": 13,
     "metadata": {},
     "output_type": "execute_result"
    }
   ],
   "source": [
    "import cv2\n",
    "import numpy as np\n",
    "import os\n",
    "\n",
    "img = cv2.imread('extract_watermark.tiff',0)\n",
    "ret, thresh1 = cv2.threshold(img, 248, 255, cv2.THRESH_BINARY)\n",
    "cv2.imwrite('extract_watermark_threshold1.tiff', thresh1)"
   ]
  },
  {
   "cell_type": "code",
   "execution_count": 6,
   "metadata": {},
   "outputs": [],
   "source": [
    "iimmgg = cv2.imread('C:/Users/soyeon/Desktop/opencv/week2/output/output0.tiff')"
   ]
  },
  {
   "cell_type": "code",
   "execution_count": null,
   "metadata": {},
   "outputs": [],
   "source": []
  }
 ],
 "metadata": {
  "kernelspec": {
   "display_name": "Python 3",
   "language": "python",
   "name": "python3"
  },
  "language_info": {
   "codemirror_mode": {
    "name": "ipython",
    "version": 3
   },
   "file_extension": ".py",
   "mimetype": "text/x-python",
   "name": "python",
   "nbconvert_exporter": "python",
   "pygments_lexer": "ipython3",
   "version": "3.7.4"
  }
 },
 "nbformat": 4,
 "nbformat_minor": 4
}
