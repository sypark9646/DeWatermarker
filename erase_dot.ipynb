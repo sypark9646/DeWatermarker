{
 "cells": [
  {
   "cell_type": "markdown",
   "metadata": {},
   "source": [
    "image4"
   ]
  },
  {
   "cell_type": "code",
   "execution_count": 5,
   "metadata": {},
   "outputs": [
    {
     "name": "stdout",
     "output_type": "stream",
     "text": [
      "1.tiff\n"
     ]
    }
   ],
   "source": [
    "#파일 100개 10분 정도\n",
    "import cv2\n",
    "import os\n",
    "import numpy as np\n",
    "from PIL import Image\n",
    "path_of_images = './image1/image1_dotremove_contour/1_2_2'\n",
    "path_of_outputimages = './image1/image1_dotremove_contour/1_2_2'\n",
    "list_of_images = os.listdir(path_of_images)\n",
    "\n",
    "for image in list_of_images[:1]:\n",
    "    print(image)\n",
    "    img = cv2.imread(os.path.join(path_of_images, image), cv2.IMREAD_GRAYSCALE)\n",
    "    height, width= img.shape\n",
    "    img_bw = np.copy(img)\n",
    "    img_copy = np.copy(img_bw)\n",
    "\n",
    "    for x in range(height):\n",
    "        for y in range(width):\n",
    "            if img_bw[x][y] < 50 and \\\n",
    "                    img_bw[x-1][y]  > 200 and img_bw[x+1][y] > 200 and img_bw[x][y-1] > 200 and img_bw[x][y+1] > 200 and \\\n",
    "                    img_bw[x-1][y-1] > 200 and img_bw[x-1][y+1] > 200 and img_bw[x+1][y-1] > 200 and img_bw[x+1][y+1] > 200:\n",
    "                img_copy[x][y] = 255\n",
    "                \n",
    "    #cv2.imwrite(os.path.join(path_of_outputimages, image), img_copy)\n",
    "    cv2.imwrite(os.path.join(path_of_outputimages, image), img_copy)\n",
    "    #new_file_path = os.path.join(path_of_outputimages, f'{image}.tiff')\n",
    "    #im = Image.fromarray(img_copy.astype('uint8'))\n",
    "    #im.save(new_file_path)"
   ]
  },
  {
   "cell_type": "code",
   "execution_count": 32,
   "metadata": {},
   "outputs": [],
   "source": [
    "import cv2\n",
    "import os\n",
    "import numpy as np\n",
    "\n",
    "path_of_images = '.image4/image4/'\n",
    "path_of_outputimages = '.image4/image4_output/1_1/'\n",
    "list_of_images = os.listdir(path_of_images)\n",
    "\n",
    "for image in list_of_images:\n",
    "    img = cv2.imread(os.path.join(path_of_images, image), cv2.IMREAD_GRAYSCALE)\n",
    "    height, width= img.shape\n",
    "    img_bw = np.copy(img)\n",
    "    img_copy = np.copy(img_bw)\n",
    "\n",
    "    for x in range(height):\n",
    "        for y in range(width):\n",
    "            num = 0\n",
    "            if img_bw[x][y] < 50: \n",
    "                num = np.count_nonzero(img_bw[ x-1:x+2, y-1:y+2 ] > 200)\n",
    "                if num >=7:\n",
    "                    img_copy[x][y] = 255\n",
    "                \n",
    "    cv2.imwrite(os.path.join(path_of_outputimages, image), img_copy)"
   ]
  },
  {
   "cell_type": "markdown",
   "metadata": {},
   "source": [
    "image1"
   ]
  },
  {
   "cell_type": "code",
   "execution_count": 5,
   "metadata": {},
   "outputs": [
    {
     "ename": "PermissionError",
     "evalue": "[Errno 13] Permission denied: './image4/image4'",
     "output_type": "error",
     "traceback": [
      "\u001b[1;31m---------------------------------------------------------------------------\u001b[0m",
      "\u001b[1;31mPermissionError\u001b[0m                           Traceback (most recent call last)",
      "\u001b[1;32m<ipython-input-5-38c9e5daedda>\u001b[0m in \u001b[0;36m<module>\u001b[1;34m\u001b[0m\n\u001b[0;32m      8\u001b[0m \u001b[1;33m\u001b[0m\u001b[0m\n\u001b[0;32m      9\u001b[0m \u001b[1;32mfor\u001b[0m \u001b[0mimage\u001b[0m \u001b[1;32min\u001b[0m \u001b[0mlist_of_images\u001b[0m\u001b[1;33m:\u001b[0m\u001b[1;33m\u001b[0m\u001b[1;33m\u001b[0m\u001b[0m\n\u001b[1;32m---> 10\u001b[1;33m     \u001b[0mimg\u001b[0m \u001b[1;33m=\u001b[0m \u001b[0mcv2\u001b[0m\u001b[1;33m.\u001b[0m\u001b[0mimdecode\u001b[0m\u001b[1;33m(\u001b[0m\u001b[0mnp\u001b[0m\u001b[1;33m.\u001b[0m\u001b[0mfromfile\u001b[0m\u001b[1;33m(\u001b[0m\u001b[0mos\u001b[0m\u001b[1;33m.\u001b[0m\u001b[0mpath\u001b[0m\u001b[1;33m.\u001b[0m\u001b[0mjoin\u001b[0m\u001b[1;33m(\u001b[0m\u001b[0mpath_of_images\u001b[0m\u001b[1;33m,\u001b[0m \u001b[0mimage\u001b[0m\u001b[1;33m)\u001b[0m\u001b[1;33m,\u001b[0m \u001b[0mdtype\u001b[0m\u001b[1;33m=\u001b[0m\u001b[0mnp\u001b[0m\u001b[1;33m.\u001b[0m\u001b[0muint8\u001b[0m\u001b[1;33m)\u001b[0m \u001b[1;33m,\u001b[0m \u001b[0mcv2\u001b[0m\u001b[1;33m.\u001b[0m\u001b[0mIMREAD_GRAYSCALE\u001b[0m\u001b[1;33m)\u001b[0m \u001b[1;31m#한글파일명\u001b[0m\u001b[1;33m\u001b[0m\u001b[1;33m\u001b[0m\u001b[0m\n\u001b[0m\u001b[0;32m     11\u001b[0m     \u001b[0mheight\u001b[0m\u001b[1;33m,\u001b[0m \u001b[0mwidth\u001b[0m \u001b[1;33m=\u001b[0m \u001b[0mimg\u001b[0m\u001b[1;33m.\u001b[0m\u001b[0mshape\u001b[0m\u001b[1;33m\u001b[0m\u001b[1;33m\u001b[0m\u001b[0m\n\u001b[0;32m     12\u001b[0m     \u001b[1;31m#print(height, width)\u001b[0m\u001b[1;33m\u001b[0m\u001b[1;33m\u001b[0m\u001b[1;33m\u001b[0m\u001b[0m\n",
      "\u001b[1;31mPermissionError\u001b[0m: [Errno 13] Permission denied: './image4/image4'"
     ]
    }
   ],
   "source": [
    "import cv2\n",
    "import os\n",
    "import numpy as np\n",
    "from PIL import Image\n",
    "\n",
    "path_of_images = './image4/'\n",
    "path_of_outputimages = './image4_output/1/'\n",
    "list_of_images = os.listdir(path_of_images)\n",
    "\n",
    "for image in list_of_images:\n",
    "    img = cv2.imdecode(np.fromfile(os.path.join(path_of_images, image), dtype=np.uint8) , cv2.IMREAD_GRAYSCALE) #한글파일명\n",
    "    height, width = img.shape\n",
    "    #print(height, width)\n",
    "    img_bw = np.copy(img)\n",
    "    img_copy = np.copy(img_bw)\n",
    "\n",
    "    for x in range(height):\n",
    "        for y in range(width):\n",
    "            num = 0\n",
    "            if img_bw[x][y] < 50: \n",
    "                num = np.count_nonzero(img_bw[ x-1:x+2, y-1:y+2 ] > 200)\n",
    "                if num >=7:\n",
    "                    img_copy[x][y] = 255\n",
    "                \n",
    "    #cv2.imwrite(os.path.join(path_of_outputimages, image), img_copy)\n",
    "#     is_success, im_buf_arr = cv2.imencode(\".tiff\", img_copy)\n",
    "#     im_buf_arr.tofile(os.path.join(path_of_outputimages, image))\n",
    "    new_file_path = os.path.join(path_of_outputimages, f'{image}.tif')\n",
    "    im = Image.fromarray(img.astype('uint8'))\n",
    "    im.save(new_file_path)"
   ]
  },
  {
   "cell_type": "code",
   "execution_count": 1,
   "metadata": {},
   "outputs": [],
   "source": [
    "import cv2\n",
    "import os\n",
    "import numpy as np\n",
    "\n",
    "path_of_images = './image1/image1_dotremove_contour/1_2_2'\n",
    "path_of_outputimages = './image1/image1_dotremove_contour/1_2_2'\n",
    "list_of_images = os.listdir(path_of_images)\n",
    "\n",
    "for image in list_of_images[:1]:\n",
    "    img = cv2.imdecode(np.fromfile(os.path.join(path_of_images, image), dtype=np.uint8) , cv2.IMREAD_GRAYSCALE) #한글파일명\n",
    "    height, width = img.shape\n",
    "    #print(height, width)\n",
    "    img_bw = np.copy(img)\n",
    "    img_copy = np.copy(img_bw)\n",
    "\n",
    "    for x in range(1, height):\n",
    "        for y in range(1, width):\n",
    "            num_white = 0\n",
    "            num_black = np.count_nonzero(img_bw[ x-1:x+1, y-1:y+1 ] < 50)\n",
    "            if num_black == 4: \n",
    "                num_white = np.count_nonzero(img_bw[ x-2:x+2, y-2:y+2 ] > 200)\n",
    "                if num_white == 12:\n",
    "                    img_copy[ x-1:x+1, y-1:y+1 ] = 255\n",
    "                \n",
    "    #cv2.imwrite(os.path.join(path_of_outputimages, image), img_copy)\n",
    "    is_success, im_buf_arr = cv2.imencode(\".tiff\", img_copy)\n",
    "    im_buf_arr.tofile(os.path.join(path_of_outputimages, image))"
   ]
  },
  {
   "cell_type": "code",
   "execution_count": null,
   "metadata": {},
   "outputs": [],
   "source": []
  }
 ],
 "metadata": {
  "kernelspec": {
   "display_name": "Python 3",
   "language": "python",
   "name": "python3"
  },
  "language_info": {
   "codemirror_mode": {
    "name": "ipython",
    "version": 3
   },
   "file_extension": ".py",
   "mimetype": "text/x-python",
   "name": "python",
   "nbconvert_exporter": "python",
   "pygments_lexer": "ipython3",
   "version": "3.7.4"
  }
 },
 "nbformat": 4,
 "nbformat_minor": 4
}
